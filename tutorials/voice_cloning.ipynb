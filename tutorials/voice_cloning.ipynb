{
 "cells": [
  {
   "cell_type": "markdown",
   "metadata": {},
   "source": [
    "# Voice cloning\n",
    "[![Open In Colab](https://colab.research.google.com/assets/colab-badge.svg)](https://colab.research.google.com/github/sensein/senselab/blob/main/tutorials/speech_to_text.ipynb)\n",
    "\n",
    "This tutorial demonstrates how to use the `clone_voices` function to convert someone's speech into someone's else voice. By now, `senselab` includes only the great `KNNVC` model for doing that. In this tutorial, we will see how to use it."
   ]
  },
  {
   "cell_type": "code",
   "execution_count": 1,
   "metadata": {},
   "outputs": [
    {
     "name": "stderr",
     "output_type": "stream",
     "text": [
      "/Users/fabiocat/Library/Caches/pypoetry/virtualenvs/senselab-lOUhtavG-py3.10/lib/python3.10/site-packages/pydantic/_internal/_fields.py:161: UserWarning: Field \"model_info\" has conflict with protected namespace \"model_\".\n",
      "\n",
      "You may be able to resolve this warning by setting `model_config['protected_namespaces'] = ()`.\n",
      "  warnings.warn(\n"
     ]
    },
    {
     "ename": "ImportError",
     "evalue": "cannot import name 'extract_segments' from 'senselab.audio.tasks.preprocessing.preprocessing' (/Users/fabiocat/Documents/git/attempt1/aa/senselab/src/senselab/audio/tasks/preprocessing/preprocessing.py)",
     "output_type": "error",
     "traceback": [
      "\u001b[0;31m---------------------------------------------------------------------------\u001b[0m",
      "\u001b[0;31mImportError\u001b[0m                               Traceback (most recent call last)",
      "Cell \u001b[0;32mIn[1], line 5\u001b[0m\n\u001b[1;32m      3\u001b[0m \u001b[38;5;28;01mfrom\u001b[39;00m \u001b[38;5;21;01msenselab\u001b[39;00m\u001b[38;5;21;01m.\u001b[39;00m\u001b[38;5;21;01mutils\u001b[39;00m\u001b[38;5;21;01m.\u001b[39;00m\u001b[38;5;21;01mdata_structures\u001b[39;00m\u001b[38;5;21;01m.\u001b[39;00m\u001b[38;5;21;01mdevice\u001b[39;00m \u001b[38;5;28;01mimport\u001b[39;00m DeviceType\n\u001b[1;32m      4\u001b[0m \u001b[38;5;28;01mfrom\u001b[39;00m \u001b[38;5;21;01msenselab\u001b[39;00m\u001b[38;5;21;01m.\u001b[39;00m\u001b[38;5;21;01mutils\u001b[39;00m\u001b[38;5;21;01m.\u001b[39;00m\u001b[38;5;21;01mdata_structures\u001b[39;00m\u001b[38;5;21;01m.\u001b[39;00m\u001b[38;5;21;01mmodel\u001b[39;00m \u001b[38;5;28;01mimport\u001b[39;00m TorchModel\n\u001b[0;32m----> 5\u001b[0m \u001b[38;5;28;01mfrom\u001b[39;00m \u001b[38;5;21;01msenselab\u001b[39;00m\u001b[38;5;21;01m.\u001b[39;00m\u001b[38;5;21;01maudio\u001b[39;00m\u001b[38;5;21;01m.\u001b[39;00m\u001b[38;5;21;01mtasks\u001b[39;00m\u001b[38;5;21;01m.\u001b[39;00m\u001b[38;5;21;01mpreprocessing\u001b[39;00m\u001b[38;5;21;01m.\u001b[39;00m\u001b[38;5;21;01mpreprocessing\u001b[39;00m \u001b[38;5;28;01mimport\u001b[39;00m resample_audios, extract_segments\n\u001b[1;32m      7\u001b[0m \u001b[38;5;66;03m# Import the audio player\u001b[39;00m\n\u001b[1;32m      8\u001b[0m \u001b[38;5;28;01mfrom\u001b[39;00m \u001b[38;5;21;01msenselab\u001b[39;00m\u001b[38;5;21;01m.\u001b[39;00m\u001b[38;5;21;01maudio\u001b[39;00m\u001b[38;5;21;01m.\u001b[39;00m\u001b[38;5;21;01mtasks\u001b[39;00m\u001b[38;5;21;01m.\u001b[39;00m\u001b[38;5;21;01mplotting\u001b[39;00m\u001b[38;5;21;01m.\u001b[39;00m\u001b[38;5;21;01mplotting\u001b[39;00m \u001b[38;5;28;01mimport\u001b[39;00m play_audio\n",
      "\u001b[0;31mImportError\u001b[0m: cannot import name 'extract_segments' from 'senselab.audio.tasks.preprocessing.preprocessing' (/Users/fabiocat/Documents/git/attempt1/aa/senselab/src/senselab/audio/tasks/preprocessing/preprocessing.py)"
     ]
    }
   ],
   "source": [
    "from senselab.audio.data_structures.audio import Audio\n",
    "from senselab.audio.tasks.voice_cloning.api import clone_voices\n",
    "from senselab.utils.data_structures.device import DeviceType\n",
    "from senselab.utils.data_structures.model import TorchModel\n",
    "from senselab.audio.tasks.preprocessing.preprocessing import resample_audios, extract_segments\n",
    "\n",
    "# Import the audio player\n",
    "from senselab.audio.tasks.plotting.plotting import play_audio\n",
    "device = DeviceType.CPU\n",
    "\n",
    "\n",
    "model = TorchModel(path_or_uri=\"bshall/knn-vc\", revision=\"master\")\n",
    "\n",
    "audio = Audio.from_filepath(\"../src/tests/data_for_testing/audio_48khz_mono_16bits.wav\")\n",
    "# Resample both audios to 16kHz\n",
    "audio = resample_audios([audio], 16000)\n",
    "\n",
    "audio1 = extract_segments([(audio, [(0.0, 1.0)])])[0][0]\n",
    "audio2 = extract_segments([(audio, [(1.0, 3.0)])])[0][0]\n",
    "\n",
    "# Play the audio\n",
    "play_audio(audio1)\n",
    "play_audio(audio2)\n"
   ]
  },
  {
   "cell_type": "code",
   "execution_count": null,
   "metadata": {},
   "outputs": [],
   "source": [
    "source_audios = [audio1]\n",
    "target_audios = [audio2]\n",
    "\n",
    "cloned_output = clone_voices(\n",
    "    source_audios=source_audios,\n",
    "    target_audios=target_audios,\n",
    "    model=model,\n",
    "    device=device,\n",
    "    topk=5,\n",
    "    prematched_vocoder=False,\n",
    ")"
   ]
  },
  {
   "cell_type": "code",
   "execution_count": null,
   "metadata": {},
   "outputs": [],
   "source": []
  },
  {
   "cell_type": "markdown",
   "metadata": {},
   "source": []
  }
 ],
 "metadata": {
  "kernelspec": {
   "display_name": "senselab-lOUhtavG-py3.10",
   "language": "python",
   "name": "python3"
  },
  "language_info": {
   "codemirror_mode": {
    "name": "ipython",
    "version": 3
   },
   "file_extension": ".py",
   "mimetype": "text/x-python",
   "name": "python",
   "nbconvert_exporter": "python",
   "pygments_lexer": "ipython3",
   "version": "3.10.10"
  }
 },
 "nbformat": 4,
 "nbformat_minor": 2
}
