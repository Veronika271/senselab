{
    "cells": [
        {
            "cell_type": "markdown",
            "metadata": {},
            "source": [
                "# Getting Started with ```senselab```\n",
                "\n",
                "[![Open In Colab](https://colab.research.google.com/assets/colab-badge.svg)](https://colab.research.google.com/github/sensein/senselab/blob/main/tutorials/audio/00_getting_started.ipynb)\n",
                "\n",
                "\n",
                "Welcome to the `senselab` quick start tutorial! \n",
                "\n",
                "This guide will showcase some of the key functionalities offered by `senselab`. We'll cover how to read, preprocess, analyze, and manipulate audio data. For more details, please check the documentation and task-specific tutorials. \n",
                "\n",
                "Note that the package evolves continuously, so if you find that this tutorial breaks at some point, please let us know by opening an issue. \n",
                "\n",
                "Let's get started!"
            ]
        },
        {
            "cell_type": "markdown",
            "metadata": {},
            "source": [
                "## Installation"
            ]
        },
        {
            "cell_type": "code",
            "execution_count": 1,
            "metadata": {
                "vscode": {
                    "languageId": "shellscript"
                }
            },
            "outputs": [
                {
                    "name": "stdout",
                    "output_type": "stream",
                    "text": [
                        "Requirement already satisfied: senselab in /om2/user/mbsilva/anaconda/envs/senselab/lib/python3.12/site-packages (0.17.0)\n",
                        "Requirement already satisfied: accelerate in /om2/user/mbsilva/anaconda/envs/senselab/lib/python3.12/site-packages (from senselab) (0.29.3)\n",
                        "Requirement already satisfied: audiomentations<1.0,>=0.35 in /om2/user/mbsilva/anaconda/envs/senselab/lib/python3.12/site-packages (from senselab) (0.35.0)\n",
                        "Requirement already satisfied: datasets<3.1,>=3 in /om2/user/mbsilva/anaconda/envs/senselab/lib/python3.12/site-packages (from senselab) (3.0.1)\n",
                        "Requirement already satisfied: huggingface-hub<1.0,>=0.23 in /om2/user/mbsilva/anaconda/envs/senselab/lib/python3.12/site-packages (from senselab) (0.23.4)\n",
                        "Requirement already satisfied: iso639<1.0,>=0.1 in /om2/user/mbsilva/anaconda/envs/senselab/lib/python3.12/site-packages (from senselab) (0.1.4)\n",
                        "Requirement already satisfied: jiwer<4.0,>=3.0 in /om2/user/mbsilva/anaconda/envs/senselab/lib/python3.12/site-packages (from senselab) (3.0.4)\n",
                        "Requirement already satisfied: nltk<4.0,>=3.9 in /om2/user/mbsilva/anaconda/envs/senselab/lib/python3.12/site-packages (from senselab) (3.9.1)\n",
                        "Requirement already satisfied: numpy<2.0,>=1.26 in /om2/user/mbsilva/anaconda/envs/senselab/lib/python3.12/site-packages (from senselab) (1.26.4)\n",
                        "Requirement already satisfied: opensmile<3.0,>=2.5 in /om2/user/mbsilva/anaconda/envs/senselab/lib/python3.12/site-packages (from senselab) (2.5.0)\n",
                        "Requirement already satisfied: praat-parselmouth<1.0,>=0.4 in /om2/user/mbsilva/anaconda/envs/senselab/lib/python3.12/site-packages (from senselab) (0.4.3)\n",
                        "Requirement already satisfied: pyannote-audio<4.0,>=3.3 in /om2/user/mbsilva/anaconda/envs/senselab/lib/python3.12/site-packages (from senselab) (3.3.0)\n",
                        "Requirement already satisfied: pyav<13.1,>=13 in /om2/user/mbsilva/anaconda/envs/senselab/lib/python3.12/site-packages (from senselab) (13.0.0)\n",
                        "Requirement already satisfied: pycountry<25.0,>=24.6 in /om2/user/mbsilva/anaconda/envs/senselab/lib/python3.12/site-packages (from senselab) (24.6.1)\n",
                        "Requirement already satisfied: pydantic<3.0,>=2.7 in /om2/user/mbsilva/anaconda/envs/senselab/lib/python3.12/site-packages (from senselab) (2.7.4)\n",
                        "Requirement already satisfied: pydra<1.0,>=0.23 in /om2/user/mbsilva/anaconda/envs/senselab/lib/python3.12/site-packages (from senselab) (0.23)\n",
                        "Requirement already satisfied: scikit-learn<2.0,>=1.5 in /om2/user/mbsilva/anaconda/envs/senselab/lib/python3.12/site-packages (from senselab) (1.5.0)\n",
                        "Requirement already satisfied: sentence-transformers<4.0,>=3.1 in /om2/user/mbsilva/anaconda/envs/senselab/lib/python3.12/site-packages (from senselab) (3.1.1)\n",
                        "Requirement already satisfied: speechbrain<1.1,>=1 in /om2/user/mbsilva/anaconda/envs/senselab/lib/python3.12/site-packages (from senselab) (1.0.1)\n",
                        "Requirement already satisfied: torch<3.0,>=2.4 in /om2/user/mbsilva/anaconda/envs/senselab/lib/python3.12/site-packages (from senselab) (2.4.1)\n",
                        "Requirement already satisfied: torch-audiomentations<1.0,>=0.11 in /om2/user/mbsilva/anaconda/envs/senselab/lib/python3.12/site-packages (from senselab) (0.11.1)\n",
                        "Requirement already satisfied: torchaudio<3.0,>=2.4 in /om2/user/mbsilva/anaconda/envs/senselab/lib/python3.12/site-packages (from senselab) (2.4.1)\n",
                        "Requirement already satisfied: torchvision<1.0,>=0.19 in /om2/user/mbsilva/anaconda/envs/senselab/lib/python3.12/site-packages (from senselab) (0.19.1)\n",
                        "Collecting transformers<4.45.0,>=4.44.2 (from senselab)\n",
                        "  Downloading transformers-4.44.2-py3-none-any.whl.metadata (43 kB)\n",
                        "\u001b[2K     \u001b[90m\u2501\u2501\u2501\u2501\u2501\u2501\u2501\u2501\u2501\u2501\u2501\u2501\u2501\u2501\u2501\u2501\u2501\u2501\u2501\u2501\u2501\u2501\u2501\u2501\u2501\u2501\u2501\u2501\u2501\u2501\u2501\u2501\u2501\u2501\u2501\u2501\u2501\u2501\u2501\u2501\u001b[0m \u001b[32m43.7/43.7 kB\u001b[0m \u001b[31m1.0 MB/s\u001b[0m eta \u001b[36m0:00:00\u001b[0m\n",
                        "\u001b[?25hRequirement already satisfied: types-requests<3.0,>=2.32 in /om2/user/mbsilva/anaconda/envs/senselab/lib/python3.12/site-packages (from senselab) (2.32.0.20240602)\n",
                        "Requirement already satisfied: umap-learn<1.0,>=0.5 in /om2/user/mbsilva/anaconda/envs/senselab/lib/python3.12/site-packages (from senselab) (0.5.6)\n",
                        "Requirement already satisfied: vocos<1.0,>=0.1 in /om2/user/mbsilva/anaconda/envs/senselab/lib/python3.12/site-packages (from senselab) (0.1.0)\n",
                        "Requirement already satisfied: librosa!=0.10.0,<0.11.0,>=0.8.0 in /om2/user/mbsilva/anaconda/envs/senselab/lib/python3.12/site-packages (from audiomentations<1.0,>=0.35->senselab) (0.10.2.post1)\n",
                        "Requirement already satisfied: scipy<2,>=1.4.0 in /om2/user/mbsilva/anaconda/envs/senselab/lib/python3.12/site-packages (from audiomentations<1.0,>=0.35->senselab) (1.13.1)\n",
                        "Requirement already satisfied: soxr<1.0.0,>=0.3.2 in /om2/user/mbsilva/anaconda/envs/senselab/lib/python3.12/site-packages (from audiomentations<1.0,>=0.35->senselab) (0.3.7)\n",
                        "Requirement already satisfied: filelock in /om2/user/mbsilva/anaconda/envs/senselab/lib/python3.12/site-packages (from datasets<3.1,>=3->senselab) (3.15.1)\n",
                        "Requirement already satisfied: pyarrow>=15.0.0 in /om2/user/mbsilva/anaconda/envs/senselab/lib/python3.12/site-packages (from datasets<3.1,>=3->senselab) (16.1.0)\n",
                        "Requirement already satisfied: dill<0.3.9,>=0.3.0 in /om2/user/mbsilva/anaconda/envs/senselab/lib/python3.12/site-packages (from datasets<3.1,>=3->senselab) (0.3.8)\n",
                        "Requirement already satisfied: pandas in /om2/user/mbsilva/anaconda/envs/senselab/lib/python3.12/site-packages (from datasets<3.1,>=3->senselab) (2.2.2)\n",
                        "Requirement already satisfied: requests>=2.32.2 in /om2/user/mbsilva/anaconda/envs/senselab/lib/python3.12/site-packages (from datasets<3.1,>=3->senselab) (2.32.3)\n",
                        "Requirement already satisfied: tqdm>=4.66.3 in /om2/user/mbsilva/anaconda/envs/senselab/lib/python3.12/site-packages (from datasets<3.1,>=3->senselab) (4.66.4)\n",
                        "Requirement already satisfied: xxhash in /om2/user/mbsilva/anaconda/envs/senselab/lib/python3.12/site-packages (from datasets<3.1,>=3->senselab) (3.4.1)\n",
                        "Requirement already satisfied: multiprocess in /om2/user/mbsilva/anaconda/envs/senselab/lib/python3.12/site-packages (from datasets<3.1,>=3->senselab) (0.70.16)\n",
                        "Requirement already satisfied: fsspec<=2024.6.1,>=2023.1.0 in /om2/user/mbsilva/anaconda/envs/senselab/lib/python3.12/site-packages (from fsspec[http]<=2024.6.1,>=2023.1.0->datasets<3.1,>=3->senselab) (2024.5.0)\n",
                        "Requirement already satisfied: aiohttp in /om2/user/mbsilva/anaconda/envs/senselab/lib/python3.12/site-packages (from datasets<3.1,>=3->senselab) (3.9.5)\n",
                        "Requirement already satisfied: packaging in /om2/user/mbsilva/anaconda/envs/senselab/lib/python3.12/site-packages (from datasets<3.1,>=3->senselab) (24.1)\n",
                        "Requirement already satisfied: pyyaml>=5.1 in /om2/user/mbsilva/anaconda/envs/senselab/lib/python3.12/site-packages (from datasets<3.1,>=3->senselab) (6.0.1)\n",
                        "Requirement already satisfied: typing-extensions>=3.7.4.3 in /om2/user/mbsilva/anaconda/envs/senselab/lib/python3.12/site-packages (from huggingface-hub<1.0,>=0.23->senselab) (4.12.2)\n",
                        "Requirement already satisfied: click<9.0.0,>=8.1.3 in /om2/user/mbsilva/anaconda/envs/senselab/lib/python3.12/site-packages (from jiwer<4.0,>=3.0->senselab) (8.1.7)\n",
                        "Requirement already satisfied: rapidfuzz<4,>=3 in /om2/user/mbsilva/anaconda/envs/senselab/lib/python3.12/site-packages (from jiwer<4.0,>=3.0->senselab) (3.9.3)\n",
                        "Requirement already satisfied: joblib in /om2/user/mbsilva/anaconda/envs/senselab/lib/python3.12/site-packages (from nltk<4.0,>=3.9->senselab) (1.4.2)\n",
                        "Requirement already satisfied: regex>=2021.8.3 in /om2/user/mbsilva/anaconda/envs/senselab/lib/python3.12/site-packages (from nltk<4.0,>=3.9->senselab) (2024.5.15)\n",
                        "Requirement already satisfied: audobject>=0.6.1 in /om2/user/mbsilva/anaconda/envs/senselab/lib/python3.12/site-packages (from opensmile<3.0,>=2.5->senselab) (0.7.11)\n",
                        "Requirement already satisfied: audinterface>=0.7.0 in /om2/user/mbsilva/anaconda/envs/senselab/lib/python3.12/site-packages (from opensmile<3.0,>=2.5->senselab) (1.2.1)\n",
                        "Requirement already satisfied: asteroid-filterbanks>=0.4 in /om2/user/mbsilva/anaconda/envs/senselab/lib/python3.12/site-packages (from pyannote-audio<4.0,>=3.3->senselab) (0.4.0)\n",
                        "Requirement already satisfied: einops>=0.6.0 in /om2/user/mbsilva/anaconda/envs/senselab/lib/python3.12/site-packages (from pyannote-audio<4.0,>=3.3->senselab) (0.8.0)\n",
                        "Requirement already satisfied: lightning>=2.0.1 in /om2/user/mbsilva/anaconda/envs/senselab/lib/python3.12/site-packages (from pyannote-audio<4.0,>=3.3->senselab) (2.3.0)\n",
                        "Requirement already satisfied: omegaconf<3.0,>=2.1 in /om2/user/mbsilva/anaconda/envs/senselab/lib/python3.12/site-packages (from pyannote-audio<4.0,>=3.3->senselab) (2.3.0)\n",
                        "Requirement already satisfied: pyannote.core>=5.0.0 in /om2/user/mbsilva/anaconda/envs/senselab/lib/python3.12/site-packages (from pyannote-audio<4.0,>=3.3->senselab) (5.0.0)\n",
                        "Requirement already satisfied: pyannote.database>=5.0.1 in /om2/user/mbsilva/anaconda/envs/senselab/lib/python3.12/site-packages (from pyannote-audio<4.0,>=3.3->senselab) (5.1.0)\n",
                        "Requirement already satisfied: pyannote.metrics>=3.2 in /om2/user/mbsilva/anaconda/envs/senselab/lib/python3.12/site-packages (from pyannote-audio<4.0,>=3.3->senselab) (3.2.1)\n",
                        "Requirement already satisfied: pyannote.pipeline>=3.0.1 in /om2/user/mbsilva/anaconda/envs/senselab/lib/python3.12/site-packages (from pyannote-audio<4.0,>=3.3->senselab) (3.0.1)\n",
                        "Requirement already satisfied: pytorch-metric-learning>=2.1.0 in /om2/user/mbsilva/anaconda/envs/senselab/lib/python3.12/site-packages (from pyannote-audio<4.0,>=3.3->senselab) (2.5.0)\n",
                        "Requirement already satisfied: rich>=12.0.0 in /om2/user/mbsilva/anaconda/envs/senselab/lib/python3.12/site-packages (from pyannote-audio<4.0,>=3.3->senselab) (13.7.1)\n",
                        "Requirement already satisfied: semver>=3.0.0 in /om2/user/mbsilva/anaconda/envs/senselab/lib/python3.12/site-packages (from pyannote-audio<4.0,>=3.3->senselab) (3.0.2)\n",
                        "Requirement already satisfied: soundfile>=0.12.1 in /om2/user/mbsilva/anaconda/envs/senselab/lib/python3.12/site-packages (from pyannote-audio<4.0,>=3.3->senselab) (0.12.1)\n",
                        "Requirement already satisfied: tensorboardX>=2.6 in /om2/user/mbsilva/anaconda/envs/senselab/lib/python3.12/site-packages (from pyannote-audio<4.0,>=3.3->senselab) (2.6.2.2)\n",
                        "Requirement already satisfied: torchmetrics>=0.11.0 in /om2/user/mbsilva/anaconda/envs/senselab/lib/python3.12/site-packages (from pyannote-audio<4.0,>=3.3->senselab) (1.4.0.post0)\n",
                        "Requirement already satisfied: annotated-types>=0.4.0 in /om2/user/mbsilva/anaconda/envs/senselab/lib/python3.12/site-packages (from pydantic<3.0,>=2.7->senselab) (0.7.0)\n",
                        "Requirement already satisfied: pydantic-core==2.18.4 in /om2/user/mbsilva/anaconda/envs/senselab/lib/python3.12/site-packages (from pydantic<3.0,>=2.7->senselab) (2.18.4)\n",
                        "Requirement already satisfied: attrs>=19.1.0 in /om2/user/mbsilva/anaconda/envs/senselab/lib/python3.12/site-packages (from pydra<1.0,>=0.23->senselab) (23.2.0)\n",
                        "Requirement already satisfied: cloudpickle>=2.0.0 in /om2/user/mbsilva/anaconda/envs/senselab/lib/python3.12/site-packages (from pydra<1.0,>=0.23->senselab) (3.0.0)\n",
                        "Requirement already satisfied: etelemetry>=0.2.2 in /om2/user/mbsilva/anaconda/envs/senselab/lib/python3.12/site-packages (from pydra<1.0,>=0.23->senselab) (0.3.1)\n",
                        "Requirement already satisfied: fileformats>=0.8 in /om2/user/mbsilva/anaconda/envs/senselab/lib/python3.12/site-packages (from pydra<1.0,>=0.23->senselab) (0.11.3)\n",
                        "Requirement already satisfied: platformdirs>=2 in /om2/user/mbsilva/anaconda/envs/senselab/lib/python3.12/site-packages (from pydra<1.0,>=0.23->senselab) (4.2.2)\n",
                        "Requirement already satisfied: threadpoolctl>=3.1.0 in /om2/user/mbsilva/anaconda/envs/senselab/lib/python3.12/site-packages (from scikit-learn<2.0,>=1.5->senselab) (3.5.0)\n",
                        "Requirement already satisfied: Pillow in /om2/user/mbsilva/anaconda/envs/senselab/lib/python3.12/site-packages (from sentence-transformers<4.0,>=3.1->senselab) (10.3.0)\n",
                        "Requirement already satisfied: hyperpyyaml in /om2/user/mbsilva/anaconda/envs/senselab/lib/python3.12/site-packages (from speechbrain<1.1,>=1->senselab) (1.2.2)\n",
                        "Requirement already satisfied: sentencepiece in /om2/user/mbsilva/anaconda/envs/senselab/lib/python3.12/site-packages (from speechbrain<1.1,>=1->senselab) (0.2.0)\n",
                        "Requirement already satisfied: sympy in /om2/user/mbsilva/anaconda/envs/senselab/lib/python3.12/site-packages (from torch<3.0,>=2.4->senselab) (1.12.1)\n",
                        "Requirement already satisfied: networkx in /om2/user/mbsilva/anaconda/envs/senselab/lib/python3.12/site-packages (from torch<3.0,>=2.4->senselab) (3.3)\n",
                        "Requirement already satisfied: jinja2 in /om2/user/mbsilva/anaconda/envs/senselab/lib/python3.12/site-packages (from torch<3.0,>=2.4->senselab) (3.1.4)\n",
                        "Requirement already satisfied: setuptools in /om2/user/mbsilva/anaconda/envs/senselab/lib/python3.12/site-packages (from torch<3.0,>=2.4->senselab) (70.0.0)\n",
                        "Requirement already satisfied: nvidia-cuda-nvrtc-cu12==12.1.105 in /om2/user/mbsilva/anaconda/envs/senselab/lib/python3.12/site-packages (from torch<3.0,>=2.4->senselab) (12.1.105)\n",
                        "Requirement already satisfied: nvidia-cuda-runtime-cu12==12.1.105 in /om2/user/mbsilva/anaconda/envs/senselab/lib/python3.12/site-packages (from torch<3.0,>=2.4->senselab) (12.1.105)\n",
                        "Requirement already satisfied: nvidia-cuda-cupti-cu12==12.1.105 in /om2/user/mbsilva/anaconda/envs/senselab/lib/python3.12/site-packages (from torch<3.0,>=2.4->senselab) (12.1.105)\n",
                        "Requirement already satisfied: nvidia-cudnn-cu12==9.1.0.70 in /om2/user/mbsilva/anaconda/envs/senselab/lib/python3.12/site-packages (from torch<3.0,>=2.4->senselab) (9.1.0.70)\n",
                        "Requirement already satisfied: nvidia-cublas-cu12==12.1.3.1 in /om2/user/mbsilva/anaconda/envs/senselab/lib/python3.12/site-packages (from torch<3.0,>=2.4->senselab) (12.1.3.1)\n",
                        "Requirement already satisfied: nvidia-cufft-cu12==11.0.2.54 in /om2/user/mbsilva/anaconda/envs/senselab/lib/python3.12/site-packages (from torch<3.0,>=2.4->senselab) (11.0.2.54)\n",
                        "Requirement already satisfied: nvidia-curand-cu12==10.3.2.106 in /om2/user/mbsilva/anaconda/envs/senselab/lib/python3.12/site-packages (from torch<3.0,>=2.4->senselab) (10.3.2.106)\n",
                        "Requirement already satisfied: nvidia-cusolver-cu12==11.4.5.107 in /om2/user/mbsilva/anaconda/envs/senselab/lib/python3.12/site-packages (from torch<3.0,>=2.4->senselab) (11.4.5.107)\n",
                        "Requirement already satisfied: nvidia-cusparse-cu12==12.1.0.106 in /om2/user/mbsilva/anaconda/envs/senselab/lib/python3.12/site-packages (from torch<3.0,>=2.4->senselab) (12.1.0.106)\n",
                        "Requirement already satisfied: nvidia-nccl-cu12==2.20.5 in /om2/user/mbsilva/anaconda/envs/senselab/lib/python3.12/site-packages (from torch<3.0,>=2.4->senselab) (2.20.5)\n",
                        "Requirement already satisfied: nvidia-nvtx-cu12==12.1.105 in /om2/user/mbsilva/anaconda/envs/senselab/lib/python3.12/site-packages (from torch<3.0,>=2.4->senselab) (12.1.105)\n",
                        "Requirement already satisfied: triton==3.0.0 in /om2/user/mbsilva/anaconda/envs/senselab/lib/python3.12/site-packages (from torch<3.0,>=2.4->senselab) (3.0.0)\n",
                        "Requirement already satisfied: nvidia-nvjitlink-cu12 in /om2/user/mbsilva/anaconda/envs/senselab/lib/python3.12/site-packages (from nvidia-cusolver-cu12==11.4.5.107->torch<3.0,>=2.4->senselab) (12.5.40)\n",
                        "Requirement already satisfied: julius<0.3,>=0.2.3 in /om2/user/mbsilva/anaconda/envs/senselab/lib/python3.12/site-packages (from torch-audiomentations<1.0,>=0.11->senselab) (0.2.7)\n",
                        "Requirement already satisfied: torch-pitch-shift>=1.2.2 in /om2/user/mbsilva/anaconda/envs/senselab/lib/python3.12/site-packages (from torch-audiomentations<1.0,>=0.11->senselab) (1.2.4)\n",
                        "Requirement already satisfied: safetensors>=0.4.1 in /om2/user/mbsilva/anaconda/envs/senselab/lib/python3.12/site-packages (from transformers<4.45.0,>=4.44.2->senselab) (0.4.3)\n",
                        "Requirement already satisfied: tokenizers<0.20,>=0.19 in /om2/user/mbsilva/anaconda/envs/senselab/lib/python3.12/site-packages (from transformers<4.45.0,>=4.44.2->senselab) (0.19.1)\n",
                        "Requirement already satisfied: urllib3>=2 in /om2/user/mbsilva/anaconda/envs/senselab/lib/python3.12/site-packages (from types-requests<3.0,>=2.32->senselab) (2.2.2)\n",
                        "Requirement already satisfied: numba>=0.51.2 in /om2/user/mbsilva/anaconda/envs/senselab/lib/python3.12/site-packages (from umap-learn<1.0,>=0.5->senselab) (0.60.0)\n",
                        "Requirement already satisfied: pynndescent>=0.5 in /om2/user/mbsilva/anaconda/envs/senselab/lib/python3.12/site-packages (from umap-learn<1.0,>=0.5->senselab) (0.5.13)\n",
                        "Requirement already satisfied: encodec==0.1.1 in /om2/user/mbsilva/anaconda/envs/senselab/lib/python3.12/site-packages (from vocos<1.0,>=0.1->senselab) (0.1.1)\n",
                        "Requirement already satisfied: psutil in /om2/user/mbsilva/anaconda/envs/senselab/lib/python3.12/site-packages (from accelerate->senselab) (5.9.8)\n",
                        "Requirement already satisfied: audeer>=1.18.0 in /om2/user/mbsilva/anaconda/envs/senselab/lib/python3.12/site-packages (from audinterface>=0.7.0->opensmile<3.0,>=2.5->senselab) (2.0.0)\n",
                        "Requirement already satisfied: audformat<2.0.0,>=1.0.1 in /om2/user/mbsilva/anaconda/envs/senselab/lib/python3.12/site-packages (from audinterface>=0.7.0->opensmile<3.0,>=2.5->senselab) (1.1.4)\n",
                        "Requirement already satisfied: audiofile>=1.3.0 in /om2/user/mbsilva/anaconda/envs/senselab/lib/python3.12/site-packages (from audinterface>=0.7.0->opensmile<3.0,>=2.5->senselab) (1.4.0)\n",
                        "Requirement already satisfied: audmath>=1.3.0 in /om2/user/mbsilva/anaconda/envs/senselab/lib/python3.12/site-packages (from audinterface>=0.7.0->opensmile<3.0,>=2.5->senselab) (1.4.1)\n",
                        "Requirement already satisfied: audresample<2.0.0,>=1.1.0 in /om2/user/mbsilva/anaconda/envs/senselab/lib/python3.12/site-packages (from audinterface>=0.7.0->opensmile<3.0,>=2.5->senselab) (1.3.3)\n",
                        "Requirement already satisfied: importlib-metadata>=4.8.0 in /om2/user/mbsilva/anaconda/envs/senselab/lib/python3.12/site-packages (from audobject>=0.6.1->opensmile<3.0,>=2.5->senselab) (7.1.0)\n",
                        "Requirement already satisfied: oyaml in /om2/user/mbsilva/anaconda/envs/senselab/lib/python3.12/site-packages (from audobject>=0.6.1->opensmile<3.0,>=2.5->senselab) (1.0)\n",
                        "Requirement already satisfied: ci-info>=0.2 in /om2/user/mbsilva/anaconda/envs/senselab/lib/python3.12/site-packages (from etelemetry>=0.2.2->pydra<1.0,>=0.23->senselab) (0.3.0)\n",
                        "Requirement already satisfied: aiosignal>=1.1.2 in /om2/user/mbsilva/anaconda/envs/senselab/lib/python3.12/site-packages (from aiohttp->datasets<3.1,>=3->senselab) (1.3.1)\n",
                        "Requirement already satisfied: frozenlist>=1.1.1 in /om2/user/mbsilva/anaconda/envs/senselab/lib/python3.12/site-packages (from aiohttp->datasets<3.1,>=3->senselab) (1.4.1)\n",
                        "Requirement already satisfied: multidict<7.0,>=4.5 in /om2/user/mbsilva/anaconda/envs/senselab/lib/python3.12/site-packages (from aiohttp->datasets<3.1,>=3->senselab) (6.0.5)\n",
                        "Requirement already satisfied: yarl<2.0,>=1.0 in /om2/user/mbsilva/anaconda/envs/senselab/lib/python3.12/site-packages (from aiohttp->datasets<3.1,>=3->senselab) (1.9.4)\n",
                        "Requirement already satisfied: audioread>=2.1.9 in /om2/user/mbsilva/anaconda/envs/senselab/lib/python3.12/site-packages (from librosa!=0.10.0,<0.11.0,>=0.8.0->audiomentations<1.0,>=0.35->senselab) (3.0.1)\n",
                        "Requirement already satisfied: decorator>=4.3.0 in /om2/user/mbsilva/anaconda/envs/senselab/lib/python3.12/site-packages (from librosa!=0.10.0,<0.11.0,>=0.8.0->audiomentations<1.0,>=0.35->senselab) (5.1.1)\n",
                        "Requirement already satisfied: pooch>=1.1 in /om2/user/mbsilva/anaconda/envs/senselab/lib/python3.12/site-packages (from librosa!=0.10.0,<0.11.0,>=0.8.0->audiomentations<1.0,>=0.35->senselab) (1.8.2)\n",
                        "Requirement already satisfied: lazy-loader>=0.1 in /om2/user/mbsilva/anaconda/envs/senselab/lib/python3.12/site-packages (from librosa!=0.10.0,<0.11.0,>=0.8.0->audiomentations<1.0,>=0.35->senselab) (0.4)\n",
                        "Requirement already satisfied: msgpack>=1.0 in /om2/user/mbsilva/anaconda/envs/senselab/lib/python3.12/site-packages (from librosa!=0.10.0,<0.11.0,>=0.8.0->audiomentations<1.0,>=0.35->senselab) (1.0.8)\n",
                        "Requirement already satisfied: lightning-utilities<2.0,>=0.8.0 in /om2/user/mbsilva/anaconda/envs/senselab/lib/python3.12/site-packages (from lightning>=2.0.1->pyannote-audio<4.0,>=3.3->senselab) (0.11.2)\n",
                        "Requirement already satisfied: pytorch-lightning in /om2/user/mbsilva/anaconda/envs/senselab/lib/python3.12/site-packages (from lightning>=2.0.1->pyannote-audio<4.0,>=3.3->senselab) (2.3.0)\n",
                        "Requirement already satisfied: llvmlite<0.44,>=0.43.0dev0 in /om2/user/mbsilva/anaconda/envs/senselab/lib/python3.12/site-packages (from numba>=0.51.2->umap-learn<1.0,>=0.5->senselab) (0.43.0)\n",
                        "Requirement already satisfied: antlr4-python3-runtime==4.9.* in /om2/user/mbsilva/anaconda/envs/senselab/lib/python3.12/site-packages (from omegaconf<3.0,>=2.1->pyannote-audio<4.0,>=3.3->senselab) (4.9.3)\n",
                        "Requirement already satisfied: sortedcontainers>=2.0.4 in /om2/user/mbsilva/anaconda/envs/senselab/lib/python3.12/site-packages (from pyannote.core>=5.0.0->pyannote-audio<4.0,>=3.3->senselab) (2.4.0)\n",
                        "Requirement already satisfied: typer>=0.12.1 in /om2/user/mbsilva/anaconda/envs/senselab/lib/python3.12/site-packages (from pyannote.database>=5.0.1->pyannote-audio<4.0,>=3.3->senselab) (0.12.3)\n",
                        "Requirement already satisfied: python-dateutil>=2.8.2 in /om2/user/mbsilva/anaconda/envs/senselab/lib/python3.12/site-packages (from pandas->datasets<3.1,>=3->senselab) (2.9.0.post0)\n",
                        "Requirement already satisfied: pytz>=2020.1 in /om2/user/mbsilva/anaconda/envs/senselab/lib/python3.12/site-packages (from pandas->datasets<3.1,>=3->senselab) (2024.1)\n",
                        "Requirement already satisfied: tzdata>=2022.7 in /om2/user/mbsilva/anaconda/envs/senselab/lib/python3.12/site-packages (from pandas->datasets<3.1,>=3->senselab) (2024.1)\n",
                        "Requirement already satisfied: docopt>=0.6.2 in /om2/user/mbsilva/anaconda/envs/senselab/lib/python3.12/site-packages (from pyannote.metrics>=3.2->pyannote-audio<4.0,>=3.3->senselab) (0.6.2)\n",
                        "Requirement already satisfied: tabulate>=0.7.7 in /om2/user/mbsilva/anaconda/envs/senselab/lib/python3.12/site-packages (from pyannote.metrics>=3.2->pyannote-audio<4.0,>=3.3->senselab) (0.9.0)\n",
                        "Requirement already satisfied: matplotlib>=2.0.0 in /om2/user/mbsilva/anaconda/envs/senselab/lib/python3.12/site-packages (from pyannote.metrics>=3.2->pyannote-audio<4.0,>=3.3->senselab) (3.9.0)\n",
                        "Requirement already satisfied: optuna>=3.1 in /om2/user/mbsilva/anaconda/envs/senselab/lib/python3.12/site-packages (from pyannote.pipeline>=3.0.1->pyannote-audio<4.0,>=3.3->senselab) (3.6.1)\n",
                        "Requirement already satisfied: charset-normalizer<4,>=2 in /om2/user/mbsilva/anaconda/envs/senselab/lib/python3.12/site-packages (from requests>=2.32.2->datasets<3.1,>=3->senselab) (3.3.2)\n",
                        "Requirement already satisfied: idna<4,>=2.5 in /om2/user/mbsilva/anaconda/envs/senselab/lib/python3.12/site-packages (from requests>=2.32.2->datasets<3.1,>=3->senselab) (3.7)\n",
                        "Requirement already satisfied: certifi>=2017.4.17 in /om2/user/mbsilva/anaconda/envs/senselab/lib/python3.12/site-packages (from requests>=2.32.2->datasets<3.1,>=3->senselab) (2024.6.2)\n",
                        "Requirement already satisfied: markdown-it-py>=2.2.0 in /om2/user/mbsilva/anaconda/envs/senselab/lib/python3.12/site-packages (from rich>=12.0.0->pyannote-audio<4.0,>=3.3->senselab) (3.0.0)\n",
                        "Requirement already satisfied: pygments<3.0.0,>=2.13.0 in /om2/user/mbsilva/anaconda/envs/senselab/lib/python3.12/site-packages (from rich>=12.0.0->pyannote-audio<4.0,>=3.3->senselab) (2.18.0)\n",
                        "Requirement already satisfied: cffi>=1.0 in /om2/user/mbsilva/anaconda/envs/senselab/lib/python3.12/site-packages (from soundfile>=0.12.1->pyannote-audio<4.0,>=3.3->senselab) (1.16.0)\n",
                        "Requirement already satisfied: mpmath<1.4.0,>=1.1.0 in /om2/user/mbsilva/anaconda/envs/senselab/lib/python3.12/site-packages (from sympy->torch<3.0,>=2.4->senselab) (1.3.0)\n",
                        "Collecting protobuf>=3.20 (from tensorboardX>=2.6->pyannote-audio<4.0,>=3.3->senselab)\n",
                        "  Downloading protobuf-5.28.3-cp38-abi3-manylinux2014_x86_64.whl.metadata (592 bytes)\n",
                        "Requirement already satisfied: primePy>=1.3 in /om2/user/mbsilva/anaconda/envs/senselab/lib/python3.12/site-packages (from torch-pitch-shift>=1.2.2->torch-audiomentations<1.0,>=0.11->senselab) (1.3)\n",
                        "Requirement already satisfied: ruamel.yaml>=0.17.28 in /om2/user/mbsilva/anaconda/envs/senselab/lib/python3.12/site-packages (from hyperpyyaml->speechbrain<1.1,>=1->senselab) (0.18.6)\n",
                        "Requirement already satisfied: MarkupSafe>=2.0 in /om2/user/mbsilva/anaconda/envs/senselab/lib/python3.12/site-packages (from jinja2->torch<3.0,>=2.4->senselab) (2.1.5)\n",
                        "Requirement already satisfied: iso-639 in /om2/user/mbsilva/anaconda/envs/senselab/lib/python3.12/site-packages (from audformat<2.0.0,>=1.0.1->audinterface>=0.7.0->opensmile<3.0,>=2.5->senselab) (0.4.5)\n",
                        "Requirement already satisfied: iso3166 in /om2/user/mbsilva/anaconda/envs/senselab/lib/python3.12/site-packages (from audformat<2.0.0,>=1.0.1->audinterface>=0.7.0->opensmile<3.0,>=2.5->senselab) (2.1.1)\n",
                        "Requirement already satisfied: pycparser in /om2/user/mbsilva/anaconda/envs/senselab/lib/python3.12/site-packages (from cffi>=1.0->soundfile>=0.12.1->pyannote-audio<4.0,>=3.3->senselab) (2.22)\n",
                        "Requirement already satisfied: zipp>=0.5 in /om2/user/mbsilva/anaconda/envs/senselab/lib/python3.12/site-packages (from importlib-metadata>=4.8.0->audobject>=0.6.1->opensmile<3.0,>=2.5->senselab) (3.19.2)\n",
                        "Requirement already satisfied: mdurl~=0.1 in /om2/user/mbsilva/anaconda/envs/senselab/lib/python3.12/site-packages (from markdown-it-py>=2.2.0->rich>=12.0.0->pyannote-audio<4.0,>=3.3->senselab) (0.1.2)\n",
                        "Requirement already satisfied: contourpy>=1.0.1 in /om2/user/mbsilva/anaconda/envs/senselab/lib/python3.12/site-packages (from matplotlib>=2.0.0->pyannote.metrics>=3.2->pyannote-audio<4.0,>=3.3->senselab) (1.2.1)\n",
                        "Requirement already satisfied: cycler>=0.10 in /om2/user/mbsilva/anaconda/envs/senselab/lib/python3.12/site-packages (from matplotlib>=2.0.0->pyannote.metrics>=3.2->pyannote-audio<4.0,>=3.3->senselab) (0.12.1)\n",
                        "Requirement already satisfied: fonttools>=4.22.0 in /om2/user/mbsilva/anaconda/envs/senselab/lib/python3.12/site-packages (from matplotlib>=2.0.0->pyannote.metrics>=3.2->pyannote-audio<4.0,>=3.3->senselab) (4.53.0)\n",
                        "Requirement already satisfied: kiwisolver>=1.3.1 in /om2/user/mbsilva/anaconda/envs/senselab/lib/python3.12/site-packages (from matplotlib>=2.0.0->pyannote.metrics>=3.2->pyannote-audio<4.0,>=3.3->senselab) (1.4.5)\n",
                        "Requirement already satisfied: pyparsing>=2.3.1 in /om2/user/mbsilva/anaconda/envs/senselab/lib/python3.12/site-packages (from matplotlib>=2.0.0->pyannote.metrics>=3.2->pyannote-audio<4.0,>=3.3->senselab) (3.1.2)\n",
                        "Requirement already satisfied: alembic>=1.5.0 in /om2/user/mbsilva/anaconda/envs/senselab/lib/python3.12/site-packages (from optuna>=3.1->pyannote.pipeline>=3.0.1->pyannote-audio<4.0,>=3.3->senselab) (1.13.1)\n",
                        "Requirement already satisfied: colorlog in /om2/user/mbsilva/anaconda/envs/senselab/lib/python3.12/site-packages (from optuna>=3.1->pyannote.pipeline>=3.0.1->pyannote-audio<4.0,>=3.3->senselab) (6.8.2)\n",
                        "Requirement already satisfied: sqlalchemy>=1.3.0 in /om2/user/mbsilva/anaconda/envs/senselab/lib/python3.12/site-packages (from optuna>=3.1->pyannote.pipeline>=3.0.1->pyannote-audio<4.0,>=3.3->senselab) (2.0.30)\n",
                        "Requirement already satisfied: six>=1.5 in /om2/user/mbsilva/anaconda/envs/senselab/lib/python3.12/site-packages (from python-dateutil>=2.8.2->pandas->datasets<3.1,>=3->senselab) (1.16.0)\n",
                        "Requirement already satisfied: ruamel.yaml.clib>=0.2.7 in /om2/user/mbsilva/anaconda/envs/senselab/lib/python3.12/site-packages (from ruamel.yaml>=0.17.28->hyperpyyaml->speechbrain<1.1,>=1->senselab) (0.2.8)\n",
                        "Requirement already satisfied: shellingham>=1.3.0 in /om2/user/mbsilva/anaconda/envs/senselab/lib/python3.12/site-packages (from typer>=0.12.1->pyannote.database>=5.0.1->pyannote-audio<4.0,>=3.3->senselab) (1.5.4)\n",
                        "Requirement already satisfied: Mako in /om2/user/mbsilva/anaconda/envs/senselab/lib/python3.12/site-packages (from alembic>=1.5.0->optuna>=3.1->pyannote.pipeline>=3.0.1->pyannote-audio<4.0,>=3.3->senselab) (1.3.5)\n",
                        "Requirement already satisfied: greenlet!=0.4.17 in /om2/user/mbsilva/anaconda/envs/senselab/lib/python3.12/site-packages (from sqlalchemy>=1.3.0->optuna>=3.1->pyannote.pipeline>=3.0.1->pyannote-audio<4.0,>=3.3->senselab) (3.0.3)\n",
                        "Downloading transformers-4.44.2-py3-none-any.whl (9.5 MB)\n",
                        "\u001b[2K   \u001b[90m\u2501\u2501\u2501\u2501\u2501\u2501\u2501\u2501\u2501\u2501\u2501\u2501\u2501\u2501\u2501\u2501\u2501\u2501\u2501\u2501\u2501\u2501\u2501\u2501\u2501\u2501\u2501\u2501\u2501\u2501\u2501\u2501\u2501\u2501\u2501\u2501\u2501\u2501\u2501\u2501\u001b[0m \u001b[32m9.5/9.5 MB\u001b[0m \u001b[31m21.2 MB/s\u001b[0m eta \u001b[36m0:00:00\u001b[0m00:01\u001b[0m00:01\u001b[0m\n",
                        "\u001b[?25hDownloading protobuf-5.28.3-cp38-abi3-manylinux2014_x86_64.whl (316 kB)\n",
                        "\u001b[2K   \u001b[90m\u2501\u2501\u2501\u2501\u2501\u2501\u2501\u2501\u2501\u2501\u2501\u2501\u2501\u2501\u2501\u2501\u2501\u2501\u2501\u2501\u2501\u2501\u2501\u2501\u2501\u2501\u2501\u2501\u2501\u2501\u2501\u2501\u2501\u2501\u2501\u2501\u2501\u2501\u2501\u2501\u001b[0m \u001b[32m316.6/316.6 kB\u001b[0m \u001b[31m10.0 MB/s\u001b[0m eta \u001b[36m0:00:00\u001b[0m\n",
                        "\u001b[?25hInstalling collected packages: protobuf, transformers\n",
                        "  Attempting uninstall: protobuf\n",
                        "    Found existing installation: protobuf 3.19.6\n",
                        "    Uninstalling protobuf-3.19.6:\n",
                        "      Successfully uninstalled protobuf-3.19.6\n",
                        "  Attempting uninstall: transformers\n",
                        "    Found existing installation: transformers 4.43.3\n",
                        "    Uninstalling transformers-4.43.3:\n",
                        "      Successfully uninstalled transformers-4.43.3\n",
                        "\u001b[31mERROR: pip's dependency resolver does not currently take into account all the packages that are installed. This behaviour is the source of the following dependency conflicts.\n",
                        "descript-audiotools 0.7.2 requires protobuf<3.20,>=3.9.2, but you have protobuf 5.28.3 which is incompatible.\n",
                        "parler-tts 0.2 requires transformers<=4.43.3,>=4.43.0, but you have transformers 4.44.2 which is incompatible.\u001b[0m\u001b[31m\n",
                        "\u001b[0mSuccessfully installed protobuf-5.28.3 transformers-4.44.2\n"
                    ]
                }
            ],
            "source": [
                "!pip install senselab"
            ]
        },
        {
            "cell_type": "markdown",
            "metadata": {},
            "source": [
                "## Reading audio clips from disk:\n",
                "Need to read some audio files from disk? **EASY!**"
            ]
        },
        {
            "cell_type": "code",
            "execution_count": 4,
            "metadata": {},
            "outputs": [
                {
                    "name": "stdout",
                    "output_type": "stream",
                    "text": [
                        "--2024-11-24 17:25:10--  https://github.com/sensein/senselab/raw/main/src/tests/data_for_testing/audio_48khz_mono_16bits.wav\n",
                        "Resolving github.com (github.com)... 140.82.114.3\n",
                        "Connecting to github.com (github.com)|140.82.114.3|:443... connected.\n",
                        "HTTP request sent, awaiting response... 302 Found\n",
                        "Location: https://raw.githubusercontent.com/sensein/senselab/main/src/tests/data_for_testing/audio_48khz_mono_16bits.wav [following]\n",
                        "--2024-11-24 17:25:10--  https://raw.githubusercontent.com/sensein/senselab/main/src/tests/data_for_testing/audio_48khz_mono_16bits.wav\n",
                        "Resolving raw.githubusercontent.com (raw.githubusercontent.com)... 185.199.109.133, 185.199.108.133, 185.199.111.133, ...\n",
                        "Connecting to raw.githubusercontent.com (raw.githubusercontent.com)|185.199.109.133|:443... connected.\n",
                        "HTTP request sent, awaiting response... 200 OK\n",
                        "Length: 472488 (461K) [audio/wav]\n",
                        "Saving to: \u2018tutorial_audio_files/audio_48khz_mono_16bits.wav\u2019\n",
                        "\n",
                        "tutorial_audio_file 100%[===================>] 461.41K  --.-KB/s    in 0.03s   \n",
                        "\n",
                        "2024-11-24 17:25:10 (15.7 MB/s) - \u2018tutorial_audio_files/audio_48khz_mono_16bits.wav\u2019 saved [472488/472488]\n",
                        "\n",
                        "--2024-11-24 17:25:11--  https://github.com/sensein/senselab/raw/main/src/tests/data_for_testing/audio_48khz_stereo_16bits.wav\n",
                        "Resolving github.com (github.com)... 140.82.114.3\n",
                        "Connecting to github.com (github.com)|140.82.114.3|:443... connected.\n",
                        "HTTP request sent, awaiting response... 302 Found\n",
                        "Location: https://raw.githubusercontent.com/sensein/senselab/main/src/tests/data_for_testing/audio_48khz_stereo_16bits.wav [following]\n",
                        "--2024-11-24 17:25:11--  https://raw.githubusercontent.com/sensein/senselab/main/src/tests/data_for_testing/audio_48khz_stereo_16bits.wav\n",
                        "Resolving raw.githubusercontent.com (raw.githubusercontent.com)... 185.199.110.133, 185.199.111.133, 185.199.108.133, ...\n",
                        "Connecting to raw.githubusercontent.com (raw.githubusercontent.com)|185.199.110.133|:443... connected.\n",
                        "HTTP request sent, awaiting response... 200 OK\n",
                        "Length: 991012 (968K) [audio/wav]\n",
                        "Saving to: \u2018tutorial_audio_files/audio_48khz_stereo_16bits.wav\u2019\n",
                        "\n",
                        "tutorial_audio_file 100%[===================>] 967.79K  --.-KB/s    in 0.04s   \n",
                        "\n",
                        "2024-11-24 17:25:11 (22.5 MB/s) - \u2018tutorial_audio_files/audio_48khz_stereo_16bits.wav\u2019 saved [991012/991012]\n",
                        "\n"
                    ]
                }
            ],
            "source": [
                "from senselab.audio.data_structures import Audio\n",
                "!mkdir -p tutorial_audio_files\n",
                "!wget -O tutorial_audio_files/audio_48khz_mono_16bits.wav https://github.com/sensein/senselab/raw/main/src/tests/data_for_testing/audio_48khz_mono_16bits.wav\n",
                "!wget -O tutorial_audio_files/audio_48khz_stereo_16bits.wav https://github.com/sensein/senselab/raw/main/src/tests/data_for_testing/audio_48khz_stereo_16bits.wav\n",
                "\n",
                "MONO_AUDIO_PATH = \"tutorial_audio_files/audio_48khz_mono_16bits.wav\"\n",
                "STEREO_AUDIO_PATH = \"tutorial_audio_files/audio_48khz_stereo_16bits.wav\"\n",
                "\n",
                "audio1 = Audio.from_filepath(MONO_AUDIO_PATH)\n",
                "audio2 = Audio.from_filepath(STEREO_AUDIO_PATH)"
            ]
        },
        {
            "cell_type": "markdown",
            "metadata": {},
            "source": [
                "## Downmixing audio clips to mono\n",
                "Want to downmix your audio to mono? It has neve been that **EASY!**! Here\u2019s how:"
            ]
        },
        {
            "cell_type": "code",
            "execution_count": 3,
            "metadata": {},
            "outputs": [
                {
                    "name": "stdout",
                    "output_type": "stream",
                    "text": [
                        "The original audio has 2 channels.\n",
                        "The downmixed audio has 1 channels.\n"
                    ]
                }
            ],
            "source": [
                "from senselab.audio.tasks.preprocessing import downmix_audios_to_mono\n",
                "\n",
                "print(\"The original audio has {} channels.\".format(audio2.waveform.shape[0]))\n",
                "audio2 = downmix_audios_to_mono([audio2])[0]\n",
                "print(\"The downmixed audio has {} channels.\".format(audio2.waveform.shape[0]))"
            ]
        },
        {
            "cell_type": "markdown",
            "metadata": {},
            "source": [
                "## Resampling audio clips to 16000 Hz\n",
                "Need to resample your audio to 16000 Hz? **EASY!**\n",
                "\n"
            ]
        },
        {
            "cell_type": "code",
            "execution_count": null,
            "metadata": {},
            "outputs": [],
            "source": [
                "from senselab.audio.tasks.preprocessing import resample_audios\n",
                "\n",
                "print(\"The original audio has a sampling rate of {} Hz.\".format(audio1.sampling_rate))\n",
                "[audio1, audio2] = resample_audios([audio1, audio2], resample_rate=16000)\n",
                "print(\"The resampled audio has a sampling rate of {} Hz.\".format(audio1.sampling_rate))"
            ]
        },
        {
            "cell_type": "markdown",
            "metadata": {},
            "source": [
                "## Playing and plotting audio\n",
                "Want to play or plot your audio? **EASY!**! Here is how:"
            ]
        },
        {
            "cell_type": "code",
            "execution_count": null,
            "metadata": {},
            "outputs": [],
            "source": [
                "from senselab.audio.tasks.plotting.plotting import play_audio\n",
                "\n",
                "play_audio(audio1)"
            ]
        },
        {
            "cell_type": "code",
            "execution_count": null,
            "metadata": {},
            "outputs": [],
            "source": [
                "from senselab.audio.tasks.plotting.plotting import plot_waveform\n",
                "\n",
                "plot_waveform(audio1)"
            ]
        },
        {
            "cell_type": "markdown",
            "metadata": {},
            "source": [
                "## Voice Activity Detection\n",
                "Want to detect when someone is speaking? **EASY!**"
            ]
        },
        {
            "cell_type": "code",
            "execution_count": null,
            "metadata": {},
            "outputs": [],
            "source": [
                "from senselab.audio.tasks.voice_activity_detection import detect_human_voice_activity_in_audios\n",
                "from senselab.utils.data_structures import PyannoteAudioModel\n",
                "\n",
                "pyannote_model = PyannoteAudioModel(path_or_uri=\"pyannote/speaker-diarization-3.1\", revision=\"main\")\n",
                "voice_activity_results = detect_human_voice_activity_in_audios(audios=[audio1, audio2], model=pyannote_model)\n",
                "print(\"Voice activity detection results: {}\".format(voice_activity_results))"
            ]
        },
        {
            "cell_type": "markdown",
            "metadata": {},
            "source": [
                "## Speaker Diarization\n",
                "Wondering who is speaking and when? **EASY!**"
            ]
        },
        {
            "cell_type": "code",
            "execution_count": null,
            "metadata": {},
            "outputs": [],
            "source": [
                "from senselab.audio.tasks.speaker_diarization import diarize_audios\n",
                "\n",
                "pyannote_model = PyannoteAudioModel(path_or_uri=\"pyannote/speaker-diarization-3.1\", revision=\"main\")\n",
                "diarization_results = diarize_audios(audios=[audio1, audio2], model=pyannote_model)\n",
                "\n",
                "print(\"Diarization results: {}\".format(diarization_results))"
            ]
        },
        {
            "cell_type": "markdown",
            "metadata": {},
            "source": [
                "## Automatic Speech Recognition\n",
                "Want to convert speech to text? **EASY!**! Use this:\n"
            ]
        },
        {
            "cell_type": "code",
            "execution_count": null,
            "metadata": {},
            "outputs": [],
            "source": [
                "from senselab.audio.tasks.speech_to_text import transcribe_audios\n",
                "from senselab.utils.data_structures import HFModel\n",
                "\n",
                "hf_model = HFModel(path_or_uri=\"openai/whisper-tiny\", revision=\"main\")\n",
                "transcripts = transcribe_audios(audios=[audio1, audio2], model=hf_model)\n",
                "\n",
                "print(\"Transcripts: {}\".format(transcripts))"
            ]
        },
        {
            "cell_type": "markdown",
            "metadata": {},
            "source": [
                "## Speaker Embeddings\n",
                "Need to get unique speaker signatures? **EASY!** Here\u2019s how:"
            ]
        },
        {
            "cell_type": "code",
            "execution_count": null,
            "metadata": {},
            "outputs": [],
            "source": [
                "from senselab.audio.tasks.speaker_embeddings import extract_speaker_embeddings_from_audios\n",
                "from senselab.utils.data_structures import SpeechBrainModel\n",
                "\n",
                "ecapa_model = SpeechBrainModel(path_or_uri=\"speechbrain/spkrec-ecapa-voxceleb\", revision=\"main\")\n",
                "embeddings = extract_speaker_embeddings_from_audios(audios=[audio1, audio1], model=ecapa_model)\n",
                "\n",
                "print(\"Speaker embeddings: {}\".format(embeddings))"
            ]
        },
        {
            "cell_type": "markdown",
            "metadata": {},
            "source": [
                "## Speech Emotion Recognition\n",
                "Want to know the emotions in the speech? **EASY!**"
            ]
        },
        {
            "cell_type": "code",
            "execution_count": null,
            "metadata": {},
            "outputs": [],
            "source": [
                "from senselab.audio.tasks.classification.speech_emotion_recognition import speech_emotion_recognition_with_hf_models\n",
                "\n",
                "emotion_model = HFModel(path_or_uri=\"ehcalabres/wav2vec2-lg-xlsr-en-speech-emotion-recognition\")\n",
                "emotion_results = speech_emotion_recognition_with_hf_models([audio1, audio2], emotion_model)\n",
                "\n",
                "print(\"Emotion results: {}\".format(emotion_results))"
            ]
        },
        {
            "cell_type": "markdown",
            "metadata": {},
            "source": [
                "## Audio Augmentation\n",
                "Need to augment your audio data? **EASY!**! Here\u2019s how:"
            ]
        },
        {
            "cell_type": "code",
            "execution_count": null,
            "metadata": {},
            "outputs": [],
            "source": [
                "from torch_audiomentations import Compose, PolarityInversion\n",
                "\n",
                "from senselab.audio.tasks.data_augmentation import augment_audios\n",
                "\n",
                "apply_augmentation = Compose(transforms=[PolarityInversion(p=1, output_type=\"dict\")], output_type=\"dict\")\n",
                "[augmented_audio1, augmented_audio2] = augment_audios([audio1, audio2], apply_augmentation)\n",
                "\n",
                "print(\"Augmented audio: {}\".format(augmented_audio1))"
            ]
        },
        {
            "cell_type": "markdown",
            "metadata": {},
            "source": [
                "## Feature Extraction\n",
                "Want to extract some OPENSMILE features from audio? **EASY!**\n"
            ]
        },
        {
            "cell_type": "code",
            "execution_count": null,
            "metadata": {},
            "outputs": [],
            "source": [
                "from senselab.audio.tasks.features_extraction.opensmile import extract_opensmile_features_from_audios\n",
                "\n",
                "features = extract_opensmile_features_from_audios([audio1, audio2])\n",
                "\n",
                "print(\"OpenSMILE features: {}\".format(features))"
            ]
        },
        {
            "cell_type": "markdown",
            "metadata": {},
            "source": [
                "## Speech Enhancement\n",
                "Need to clean up your audio? **EASY!** Here\u2019s how:"
            ]
        },
        {
            "cell_type": "code",
            "execution_count": null,
            "metadata": {},
            "outputs": [],
            "source": [
                "from senselab.audio.tasks.speech_enhancement import enhance_audios\n",
                "from senselab.utils.data_structures import SpeechBrainModel\n",
                "\n",
                "speechbrain_model = SpeechBrainModel(path_or_uri=\"speechbrain/sepformer-wham16k-enhancement\", revision=\"main\")\n",
                "enhanced_audios = enhance_audios(audios=[audio1, audio1], model=speechbrain_model)\n",
                "\n",
                "print(\"Enhanced audios: {}\".format(enhanced_audios))"
            ]
        }
    ],
    "metadata": {
        "kernelspec": {
            "display_name": "senselab-UNCffeRf-py3.10",
            "language": "python",
            "name": "python3"
        },
        "language_info": {
            "codemirror_mode": {
                "name": "ipython",
                "version": 3
            },
            "file_extension": ".py",
            "mimetype": "text/x-python",
            "name": "python",
            "nbconvert_exporter": "python",
            "pygments_lexer": "ipython3",
            "version": "3.12.0"
        }
    },
    "nbformat": 4,
    "nbformat_minor": 2
}
