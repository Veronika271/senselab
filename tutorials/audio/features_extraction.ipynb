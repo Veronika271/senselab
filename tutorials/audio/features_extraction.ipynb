{
    "cells": [
        {
            "cell_type": "markdown",
            "metadata": {},
            "source": [
                "# Features extraction tutorial\n",
                "\n",
                "[![Open In Colab](https://colab.research.google.com/assets/colab-badge.svg)](https://colab.research.google.com/github/sensein/senselab/blob/main/tutorials/audio/features_extraction.ipynb)\n",
                "\n",
                "\n",
                "In this tutorial, we will explore how to extract some audio descriptors with the `senselab` package. Descriptors include acoustic and quality measures and are extracted with different libraries. "
            ]
        },
        {
            "cell_type": "code",
            "execution_count": null,
            "metadata": {},
            "outputs": [],
            "source": [
                "%pip install senselab"
            ]
        },
        {
            "cell_type": "code",
            "execution_count": 2,
            "metadata": {
                "vscode": {
                    "languageId": "shellscript"
                }
            },
            "outputs": [
                {
                    "name": "stdout",
                    "output_type": "stream",
                    "text": [
                        "--2025-03-05 10:30:14--  https://github.com/sensein/senselab/raw/main/src/tests/data_for_testing/audio_48khz_stereo_16bits.wav\n",
                        "Resolving github.com (github.com)... 140.82.113.3\n",
                        "Connecting to github.com (github.com)|140.82.113.3|:443... connected.\n",
                        "HTTP request sent, awaiting response... 302 Found\n",
                        "Location: https://raw.githubusercontent.com/sensein/senselab/main/src/tests/data_for_testing/audio_48khz_stereo_16bits.wav [following]\n",
                        "--2025-03-05 10:30:14--  https://raw.githubusercontent.com/sensein/senselab/main/src/tests/data_for_testing/audio_48khz_stereo_16bits.wav\n",
                        "Resolving raw.githubusercontent.com (raw.githubusercontent.com)... 2606:50c0:8001::154, 2606:50c0:8002::154, 2606:50c0:8003::154, ...\n",
                        "Connecting to raw.githubusercontent.com (raw.githubusercontent.com)|2606:50c0:8001::154|:443... connected.\n",
                        "HTTP request sent, awaiting response... 200 OK\n",
                        "Length: 991012 (968K) [audio/wav]\n",
                        "Saving to: \u2018tutorial_audio_files/audio_48khz_stereo_16bits.wav\u2019\n",
                        "\n",
                        "tutorial_audio_file 100%[===================>] 967.79K  --.-KB/s    in 0.1s    \n",
                        "\n",
                        "2025-03-05 10:30:15 (8.36 MB/s) - \u2018tutorial_audio_files/audio_48khz_stereo_16bits.wav\u2019 saved [991012/991012]\n",
                        "\n"
                    ]
                }
            ],
            "source": [
                "!mkdir -p tutorial_audio_files\n",
                "!wget -O tutorial_audio_files/audio_48khz_stereo_16bits.wav https://github.com/sensein/senselab/raw/main/src/tests/data_for_testing/audio_48khz_stereo_16bits.wav"
            ]
        },
        {
            "cell_type": "code",
            "execution_count": 1,
            "metadata": {},
            "outputs": [
                {
                    "name": "stderr",
                    "output_type": "stream",
                    "text": [
                        "/Users/fabiocat/Library/Caches/pypoetry/virtualenvs/senselab-KP8v1V64-py3.10/lib/python3.10/site-packages/tqdm/auto.py:21: TqdmWarning: IProgress not found. Please update jupyter and ipywidgets. See https://ipywidgets.readthedocs.io/en/stable/user_install.html\n",
                        "  from .autonotebook import tqdm as notebook_tqdm\n"
                    ]
                }
            ],
            "source": [
                "# Imports\n",
                "from senselab.audio.data_structures import Audio\n",
                "from senselab.audio.tasks.features_extraction.api import extract_features_from_audios\n",
                "from senselab.audio.tasks.preprocessing import downmix_audios_to_mono, resample_audios"
            ]
        },
        {
            "cell_type": "code",
            "execution_count": 3,
            "metadata": {},
            "outputs": [
                {
                    "ename": "ImportError",
                    "evalue": "`torchaudio` is not installed.Please, Install senselab audio dependencies using `pip install senselab['audio']`.",
                    "output_type": "error",
                    "traceback": [
                        "\u001b[0;31m---------------------------------------------------------------------------\u001b[0m",
                        "\u001b[0;31mImportError\u001b[0m                               Traceback (most recent call last)",
                        "Cell \u001b[0;32mIn[3], line 2\u001b[0m\n\u001b[1;32m      1\u001b[0m \u001b[38;5;66;03m# Load audio\u001b[39;00m\n\u001b[0;32m----> 2\u001b[0m audio2 \u001b[38;5;241m=\u001b[39m \u001b[43mAudio\u001b[49m\u001b[38;5;241;43m.\u001b[39;49m\u001b[43mfrom_filepath\u001b[49m\u001b[43m(\u001b[49m\u001b[38;5;124;43m\"\u001b[39;49m\u001b[38;5;124;43mtutorial_audio_files/audio_48khz_stereo_16bits.wav\u001b[39;49m\u001b[38;5;124;43m\"\u001b[39;49m\u001b[43m)\u001b[49m\n\u001b[1;32m      4\u001b[0m \u001b[38;5;66;03m# Downmix to mono\u001b[39;00m\n\u001b[1;32m      5\u001b[0m audio2 \u001b[38;5;241m=\u001b[39m downmix_audios_to_mono([audio2])[\u001b[38;5;241m0\u001b[39m]\n",
                        "File \u001b[0;32m~/git/senselab/src/senselab/audio/data_structures/audio.py:77\u001b[0m, in \u001b[0;36mAudio.from_filepath\u001b[0;34m(cls, filepath, metadata)\u001b[0m\n\u001b[1;32m     70\u001b[0m \u001b[38;5;250m\u001b[39m\u001b[38;5;124;03m\"\"\"Creates an Audio instance from an audio file.\u001b[39;00m\n\u001b[1;32m     71\u001b[0m \n\u001b[1;32m     72\u001b[0m \u001b[38;5;124;03mArgs:\u001b[39;00m\n\u001b[1;32m     73\u001b[0m \u001b[38;5;124;03m    filepath: Filepath of the audio file to read from\u001b[39;00m\n\u001b[1;32m     74\u001b[0m \u001b[38;5;124;03m    metadata: Additional information associated with the audio file\u001b[39;00m\n\u001b[1;32m     75\u001b[0m \u001b[38;5;124;03m\"\"\"\u001b[39;00m\n\u001b[1;32m     76\u001b[0m \u001b[38;5;28;01mif\u001b[39;00m \u001b[38;5;129;01mnot\u001b[39;00m TORCHAUDIO_AVAILABLE:\n\u001b[0;32m---> 77\u001b[0m     \u001b[38;5;28;01mraise\u001b[39;00m \u001b[38;5;167;01mImportError\u001b[39;00m(\u001b[38;5;124m\"\u001b[39m\u001b[38;5;124m`torchaudio` is not installed.\u001b[39m\u001b[38;5;124m\"\u001b[39m \\\n\u001b[1;32m     78\u001b[0m                       \u001b[38;5;124m\"\u001b[39m\u001b[38;5;124mPlease, Install senselab audio dependencies using `pip install senselab[\u001b[39m\u001b[38;5;124m'\u001b[39m\u001b[38;5;124maudio\u001b[39m\u001b[38;5;124m'\u001b[39m\u001b[38;5;124m]`.\u001b[39m\u001b[38;5;124m\"\u001b[39m)\n\u001b[1;32m     80\u001b[0m array, sampling_rate \u001b[38;5;241m=\u001b[39m torchaudio\u001b[38;5;241m.\u001b[39mload(filepath)\n\u001b[1;32m     82\u001b[0m \u001b[38;5;28;01mreturn\u001b[39;00m \u001b[38;5;28mcls\u001b[39m(waveform\u001b[38;5;241m=\u001b[39marray, sampling_rate\u001b[38;5;241m=\u001b[39msampling_rate, orig_path_or_id\u001b[38;5;241m=\u001b[39mfilepath, metadata\u001b[38;5;241m=\u001b[39mmetadata)\n",
                        "\u001b[0;31mImportError\u001b[0m: `torchaudio` is not installed.Please, Install senselab audio dependencies using `pip install senselab['audio']`."
                    ]
                }
            ],
            "source": [
                "# Load audio\n",
                "audio2 = Audio.from_filepath(\"tutorial_audio_files/audio_48khz_stereo_16bits.wav\")\n",
                "\n",
                "# Downmix to mono\n",
                "audio2 = downmix_audios_to_mono([audio2])[0]\n",
                "\n",
                "# Resample both audios to 16kHz\n",
                "audios = resample_audios([audio2], 16000)"
            ]
        },
        {
            "cell_type": "code",
            "execution_count": null,
            "metadata": {},
            "outputs": [],
            "source": [
                "extract_features_from_audios(audios=audios,\n",
                "                                      opensmile=True,\n",
                "                                      parselmouth=True,\n",
                "                                      torchaudio=True,\n",
                "                                      torchaudio_squim=True)"
            ]
        },
        {
            "cell_type": "markdown",
            "metadata": {},
            "source": [
                " ## Extracting health measurements from audio files\n",
                "\n",
                "As part of our ongoing efforts in `senselab`, we are curating and maintaining a selection of metrics that show promise for health assessment and monitoring. Please refer to the documentation for further details. Below is a guide to easily extract these metrics."
            ]
        },
        {
            "cell_type": "code",
            "execution_count": null,
            "metadata": {},
            "outputs": [],
            "source": [
                "from senselab.audio.workflows.health_measurements.extract_health_measurements import extract_health_measurements\n",
                "\n",
                "extract_health_measurements(audios=audios)"
            ]
        }
    ],
    "metadata": {
        "kernelspec": {
            "display_name": "senselab-KP8v1V64-py3.10",
            "language": "python",
            "name": "python3"
        },
        "language_info": {
            "codemirror_mode": {
                "name": "ipython",
                "version": 3
            },
            "file_extension": ".py",
            "mimetype": "text/x-python",
            "name": "python",
            "nbconvert_exporter": "python",
            "pygments_lexer": "ipython3",
            "version": "3.10.10"
        }
    },
    "nbformat": 4,
    "nbformat_minor": 2
}
