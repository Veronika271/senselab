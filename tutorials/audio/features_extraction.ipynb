{
 "cells": [
  {
   "cell_type": "code",
   "execution_count": null,
   "metadata": {},
   "outputs": [],
   "source": []
  },
  {
   "cell_type": "code",
   "execution_count": 1,
   "metadata": {},
   "outputs": [],
   "source": [
    "from typing import List\n",
    "from senselab.audio.data_structures import Audio\n",
    "from senselab.audio.tasks.preprocessing import downmix_audios_to_mono, resample_audios"
   ]
  },
  {
   "cell_type": "code",
   "execution_count": 2,
   "metadata": {},
   "outputs": [],
   "source": [
    "audio1 = Audio.from_filepath(\"../../src/tests/data_for_testing/audio_48khz_mono_16bits.wav\")\n",
    "audio2 = Audio.from_filepath(\"../../src/tests/data_for_testing/audio_48khz_stereo_16bits.wav\")\n",
    "\n",
    "# Downmix to mono\n",
    "audio2 = downmix_audios_to_mono([audio2])[0]\n",
    "\n",
    "# Resample both audios to 16kHz\n",
    "audios = resample_audios([audio1, audio2], 16000)"
   ]
  },
  {
   "cell_type": "code",
   "execution_count": 3,
   "metadata": {},
   "outputs": [
    {
     "data": {
      "text/plain": [
       "[Audio(waveform=tensor([[ 1.4590e-06, -7.7387e-06, -5.3665e-06,  ...,  1.4245e-04,\n",
       "           1.4647e-04,  1.0976e-04]]), sampling_rate=16000, orig_path_or_id='../../src/tests/data_for_testing/audio_48khz_mono_16bits.wav', metadata={}),\n",
       " Audio(waveform=tensor([[ 1.1528e-05, -5.4035e-06,  3.5290e-06,  ...,  0.0000e+00,\n",
       "           0.0000e+00,  0.0000e+00]]), sampling_rate=16000, orig_path_or_id='../../src/tests/data_for_testing/audio_48khz_stereo_16bits.wav', metadata={})]"
      ]
     },
     "execution_count": 3,
     "metadata": {},
     "output_type": "execute_result"
    }
   ],
   "source": [
    "audios"
   ]
  },
  {
   "cell_type": "code",
   "execution_count": 4,
   "metadata": {},
   "outputs": [],
   "source": [
    "from senselab.audio.tasks.features_extraction.praat_parselmouth import extract_features_from_audios, extract_intensity_descriptors"
   ]
  },
  {
   "cell_type": "code",
   "execution_count": 5,
   "metadata": {},
   "outputs": [
    {
     "name": "stdout",
     "output_type": "stream",
     "text": [
      "[Result(output=Output(speech_rate_out={'speaking_rate': 4.063956515665282, 'articulation_rate': 4.063956515665282, 'phonation_ratio': 1.0, 'pause_rate': 0.0, 'mean_pause_dur': 0.0}, pitch_values_out={'pitch_floor': 60.0, 'pitch_ceiling': 250.0}, pitch_out={'mean_f0_hertz': 118.5991613436674, 'stdev_f0_hertz': 30.232956155880277}, intensity_out={'mean_db': 69.97371343701798, 'range_db_ratio': 1.550705537854896}, harmonicity_out={'hnr_db_mean': 3.328562825913734, 'hnr_db_std_dev': 3.3649067832457247}, slope_tilt_out={'spc_slope': -13.992213991490878, 'spc_tilt': -0.004453109703050689}, cpp_out={'mean_cpp': 7.038229172332017}, formants_out={'F1_mean': 613.4814343368618, 'F1_Std': 303.9953720107834, 'B1_mean': 401.9346611426706, 'B1_Std': 400.72077921852315, 'F2_mean': 1701.7936201026444, 'F2_Std': 325.4474082112356, 'B2_mean': 434.5022203696791, 'B2_Std': 380.6260425874624}, spectral_moments_out={'spc_gravity': 579.565685472785, 'spc_std_dev': 651.3074579097976, 'spc_skewness': 3.587962927611105, 'spc_kurtosis': 19.99120845874353}, audio_duration={'duration': 4.9213125}), runtime=None, errored=False), Result(output=Output(speech_rate_out={'speaking_rate': 3.874983349680919, 'articulation_rate': 3.874983349680919, 'phonation_ratio': 1.0, 'pause_rate': 0.0, 'mean_pause_dur': 0.0}, pitch_values_out={'pitch_floor': 60.0, 'pitch_ceiling': 250.0}, pitch_out={'mean_f0_hertz': 118.59917806814313, 'stdev_f0_hertz': 30.232960797931817}, intensity_out={'mean_db': 69.76277128148347, 'range_db_ratio': -0.25736445047981316}, harmonicity_out={'hnr_db_mean': 3.3285614070654375, 'hnr_db_std_dev': 3.36490968797237}, slope_tilt_out={'spc_slope': -13.982306776816046, 'spc_tilt': -0.004414961849917737}, cpp_out={'mean_cpp': 7.0388038514346825}, formants_out={'F1_mean': 613.4664268420964, 'F1_Std': 303.98235579059883, 'B1_mean': 401.96960219300837, 'B1_Std': 400.9001719378358, 'F2_mean': 1701.7755281579418, 'F2_Std': 325.4405394017738, 'B2_mean': 434.542188503193, 'B2_Std': 380.8914612651878}, spectral_moments_out={'spc_gravity': 579.587511962247, 'spc_std_dev': 651.3025011919739, 'spc_skewness': 3.5879707548251045, 'spc_kurtosis': 19.991495997865282}, audio_duration={'duration': 5.1613125}), runtime=None, errored=False)]\n"
     ]
    }
   ],
   "source": [
    "result = extract_features_from_audios(audios=audios)"
   ]
  },
  {
   "cell_type": "code",
   "execution_count": 6,
   "metadata": {},
   "outputs": [
    {
     "data": {
      "text/plain": [
       "{'praat_parselmouth': [{'duration': 4.9213125,\n",
       "   'speaking_rate': 4.063956515665282,\n",
       "   'articulation_rate': 4.063956515665282,\n",
       "   'phonation_ratio': 1.0,\n",
       "   'pause_rate': 0.0,\n",
       "   'mean_pause_duration': 0.0,\n",
       "   'mean_f0_hertz': 118.5991613436674,\n",
       "   'stdev_f0_hertz': 30.232956155880277,\n",
       "   'mean_db': 69.97371343701798,\n",
       "   'range_ratio_db': 1.550705537854896,\n",
       "   'hnr_db': 3.328562825913734,\n",
       "   'spectral_slope': -13.992213991490878,\n",
       "   'spectral_tilt': -0.004453109703050689,\n",
       "   'cepstral_peak_prominence': 7.038229172332017,\n",
       "   'mean_f1_loc': 613.4814343368618,\n",
       "   'std_f1_loc': 303.9953720107834,\n",
       "   'mean_b1_loc': 401.9346611426706,\n",
       "   'std_b1_loc': 400.72077921852315,\n",
       "   'mean_f2_loc': 1701.7936201026444,\n",
       "   'std_f2_loc': 325.4474082112356,\n",
       "   'mean_b2_loc': 434.5022203696791,\n",
       "   'std_b2_loc': 380.6260425874624,\n",
       "   'spectral_gravity': 579.565685472785,\n",
       "   'spectral_std_dev': 651.3074579097976,\n",
       "   'spectral_skewness': 3.587962927611105,\n",
       "   'spectral_kurtosis': 19.99120845874353},\n",
       "  {'duration': 5.1613125,\n",
       "   'speaking_rate': 3.874983349680919,\n",
       "   'articulation_rate': 3.874983349680919,\n",
       "   'phonation_ratio': 1.0,\n",
       "   'pause_rate': 0.0,\n",
       "   'mean_pause_duration': 0.0,\n",
       "   'mean_f0_hertz': 118.59917806814313,\n",
       "   'stdev_f0_hertz': 30.232960797931817,\n",
       "   'mean_db': 69.76277128148347,\n",
       "   'range_ratio_db': -0.25736445047981316,\n",
       "   'hnr_db': 3.3285614070654375,\n",
       "   'spectral_slope': -13.982306776816046,\n",
       "   'spectral_tilt': -0.004414961849917737,\n",
       "   'cepstral_peak_prominence': 7.0388038514346825,\n",
       "   'mean_f1_loc': 613.4664268420964,\n",
       "   'std_f1_loc': 303.98235579059883,\n",
       "   'mean_b1_loc': 401.96960219300837,\n",
       "   'std_b1_loc': 400.9001719378358,\n",
       "   'mean_f2_loc': 1701.7755281579418,\n",
       "   'std_f2_loc': 325.4405394017738,\n",
       "   'mean_b2_loc': 434.542188503193,\n",
       "   'std_b2_loc': 380.8914612651878,\n",
       "   'spectral_gravity': 579.587511962247,\n",
       "   'spectral_std_dev': 651.3025011919739,\n",
       "   'spectral_skewness': 3.5879707548251045,\n",
       "   'spectral_kurtosis': 19.991495997865282}]}"
      ]
     },
     "execution_count": 6,
     "metadata": {},
     "output_type": "execute_result"
    }
   ],
   "source": [
    "result"
   ]
  },
  {
   "cell_type": "code",
   "execution_count": 7,
   "metadata": {},
   "outputs": [],
   "source": [
    "# TODO:\n",
    "# CHANGE SOME OF THE NAMES\n",
    "# ADD SOME PARAMS\n",
    "# CACHE FOLDER??? DEFAULT SHOULD BE NONE MAYBE\n",
    "# DOCS\n",
    "# TESTS\n",
    "# TUTORIALS\n",
    "# CHILDREN!!!\n",
    "\n",
    "# LARGER SPEECH-VOICE VECTOR DESCRIPTOR"
   ]
  }
 ],
 "metadata": {
  "kernelspec": {
   "display_name": "senselab-AW7jSiDz-py3.10",
   "language": "python",
   "name": "python3"
  },
  "language_info": {
   "codemirror_mode": {
    "name": "ipython",
    "version": 3
   },
   "file_extension": ".py",
   "mimetype": "text/x-python",
   "name": "python",
   "nbconvert_exporter": "python",
   "pygments_lexer": "ipython3",
   "version": "3.10.10"
  }
 },
 "nbformat": 4,
 "nbformat_minor": 2
}
