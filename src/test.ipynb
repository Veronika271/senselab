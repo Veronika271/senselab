{
    "cells": [
        {
            "cell_type": "code",
            "execution_count": 1,
            "metadata": {},
            "outputs": [
                {
                    "name": "stderr",
                    "output_type": "stream",
                    "text": [
                        "/om2/user/mbsilva/anaconda/envs/senselab/lib/python3.12/site-packages/tqdm/auto.py:21: TqdmWarning: IProgress not found. Please update jupyter and ipywidgets. See https://ipywidgets.readthedocs.io/en/stable/user_install.html\n",
                        "  from .autonotebook import tqdm as notebook_tqdm\n",
                        "A newer version (0.25) of nipype/pydra is available. You are using 0.23\n"
                    ]
                }
            ],
            "source": [
                "from senselab.audio.tasks.voice_activity_detection.api import detect_human_voice_activity_in_audios\n",
                "from senselab.audio.tasks.speaker_diarization import diarize_audios"
            ]
        }
    ],
    "metadata": {
        "kernelspec": {
            "display_name": "senselab",
            "language": "python",
            "name": "python3"
        },
        "language_info": {
            "codemirror_mode": {
                "name": "ipython",
                "version": 3
            },
            "file_extension": ".py",
            "mimetype": "text/x-python",
            "name": "python",
            "nbconvert_exporter": "python",
            "pygments_lexer": "ipython3",
            "version": "3.12.0"
        }
    },
    "nbformat": 4,
    "nbformat_minor": 2
}
